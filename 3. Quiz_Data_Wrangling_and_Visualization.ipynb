{
 "cells": [
  {
   "cell_type": "code",
   "execution_count": 1,
   "metadata": {},
   "outputs": [],
   "source": [
    "import pandas as pd\n",
    "import matplotlib as plt"
   ]
  },
  {
   "cell_type": "markdown",
   "metadata": {},
   "source": [
    "# Graded Assignment\n",
    "\n",
    "## Data Preparation\n",
    "\n",
    "The data we're going to use is the invoice summary of a transaction data of an online retail shop provided from UCI Machine Learning [repository](https://archive.ics.uci.edu/ml/datasets/online+retail). All the transactions occurring between end of 2010 to end of 2011 for a UK-based and registered non-store online retail:\n",
    "\n",
    "- `InvoiceNo`: unique invoice ID\n",
    "- `UniqueItem`: number of unique item bought per transaction/invoice\n",
    "- `CustomerID`: customer identification\n",
    "- `Country`: customer's address country\n",
    "- `InvoiceDate`: date of transaction"
   ]
  },
  {
   "cell_type": "code",
   "execution_count": 2,
   "metadata": {
    "scrolled": true
   },
   "outputs": [
    {
     "data": {
      "text/html": [
       "<div>\n",
       "<style scoped>\n",
       "    .dataframe tbody tr th:only-of-type {\n",
       "        vertical-align: middle;\n",
       "    }\n",
       "\n",
       "    .dataframe tbody tr th {\n",
       "        vertical-align: top;\n",
       "    }\n",
       "\n",
       "    .dataframe thead th {\n",
       "        text-align: right;\n",
       "    }\n",
       "</style>\n",
       "<table border=\"1\" class=\"dataframe\">\n",
       "  <thead>\n",
       "    <tr style=\"text-align: right;\">\n",
       "      <th></th>\n",
       "      <th>UniqueItem</th>\n",
       "      <th>TotalPrice</th>\n",
       "      <th>CustomerID</th>\n",
       "      <th>Country</th>\n",
       "      <th>InvoiceDate</th>\n",
       "    </tr>\n",
       "    <tr>\n",
       "      <th>InvoiceNo</th>\n",
       "      <th></th>\n",
       "      <th></th>\n",
       "      <th></th>\n",
       "      <th></th>\n",
       "      <th></th>\n",
       "    </tr>\n",
       "  </thead>\n",
       "  <tbody>\n",
       "    <tr>\n",
       "      <th>536365</th>\n",
       "      <td>7</td>\n",
       "      <td>139.12</td>\n",
       "      <td>17850.0</td>\n",
       "      <td>United Kingdom</td>\n",
       "      <td>2010-12-01 08:26:00</td>\n",
       "    </tr>\n",
       "    <tr>\n",
       "      <th>536366</th>\n",
       "      <td>2</td>\n",
       "      <td>22.20</td>\n",
       "      <td>17850.0</td>\n",
       "      <td>United Kingdom</td>\n",
       "      <td>2010-12-01 08:28:00</td>\n",
       "    </tr>\n",
       "    <tr>\n",
       "      <th>536367</th>\n",
       "      <td>12</td>\n",
       "      <td>278.73</td>\n",
       "      <td>13047.0</td>\n",
       "      <td>United Kingdom</td>\n",
       "      <td>2010-12-01 08:34:00</td>\n",
       "    </tr>\n",
       "    <tr>\n",
       "      <th>536368</th>\n",
       "      <td>4</td>\n",
       "      <td>70.05</td>\n",
       "      <td>13047.0</td>\n",
       "      <td>United Kingdom</td>\n",
       "      <td>2010-12-01 08:34:00</td>\n",
       "    </tr>\n",
       "    <tr>\n",
       "      <th>536369</th>\n",
       "      <td>1</td>\n",
       "      <td>17.85</td>\n",
       "      <td>13047.0</td>\n",
       "      <td>United Kingdom</td>\n",
       "      <td>2010-12-01 08:35:00</td>\n",
       "    </tr>\n",
       "  </tbody>\n",
       "</table>\n",
       "</div>"
      ],
      "text/plain": [
       "           UniqueItem  TotalPrice  CustomerID         Country  \\\n",
       "InvoiceNo                                                       \n",
       "536365              7      139.12     17850.0  United Kingdom   \n",
       "536366              2       22.20     17850.0  United Kingdom   \n",
       "536367             12      278.73     13047.0  United Kingdom   \n",
       "536368              4       70.05     13047.0  United Kingdom   \n",
       "536369              1       17.85     13047.0  United Kingdom   \n",
       "\n",
       "                   InvoiceDate  \n",
       "InvoiceNo                       \n",
       "536365     2010-12-01 08:26:00  \n",
       "536366     2010-12-01 08:28:00  \n",
       "536367     2010-12-01 08:34:00  \n",
       "536368     2010-12-01 08:34:00  \n",
       "536369     2010-12-01 08:35:00  "
      ]
     },
     "execution_count": 2,
     "metadata": {},
     "output_type": "execute_result"
    }
   ],
   "source": [
    "invoice = pd.read_csv('data_input/retail_invoice.csv',index_col='InvoiceNo')\n",
    "invoice.head()"
   ]
  },
  {
   "cell_type": "markdown",
   "metadata": {},
   "source": [
    "Before you go any further, check the data `dtypes` and make sure all of our columns have stored in the correct data type!"
   ]
  },
  {
   "cell_type": "code",
   "execution_count": 10,
   "metadata": {},
   "outputs": [
    {
     "data": {
      "text/plain": [
       "UniqueItem              int64\n",
       "TotalPrice            float64\n",
       "CustomerID            float64\n",
       "Country              category\n",
       "InvoiceDate    datetime64[ns]\n",
       "dtype: object"
      ]
     },
     "execution_count": 10,
     "metadata": {},
     "output_type": "execute_result"
    }
   ],
   "source": [
    "## Your code here\n",
    "invoice[\"InvoiceDate\"]=invoice[\"InvoiceDate\"].astype('datetime64')\n",
    "invoice[\"Country\"]=invoice[\"Country\"].astype('category')\n",
    "invoice.dtypes"
   ]
  },
  {
   "cell_type": "markdown",
   "metadata": {},
   "source": [
    "The company is planning for expansion and you were asked to observe their overseas market. Using any subsetting method you've learned, subset `invoice` by `Country` to get only **transactions from the countries outside the United Kingdom** and name it **`invoice_int`**!"
   ]
  },
  {
   "cell_type": "code",
   "execution_count": 26,
   "metadata": {},
   "outputs": [
    {
     "data": {
      "text/html": [
       "<div>\n",
       "<style scoped>\n",
       "    .dataframe tbody tr th:only-of-type {\n",
       "        vertical-align: middle;\n",
       "    }\n",
       "\n",
       "    .dataframe tbody tr th {\n",
       "        vertical-align: top;\n",
       "    }\n",
       "\n",
       "    .dataframe thead th {\n",
       "        text-align: right;\n",
       "    }\n",
       "</style>\n",
       "<table border=\"1\" class=\"dataframe\">\n",
       "  <thead>\n",
       "    <tr style=\"text-align: right;\">\n",
       "      <th></th>\n",
       "      <th>UniqueItem</th>\n",
       "      <th>TotalPrice</th>\n",
       "      <th>CustomerID</th>\n",
       "      <th>Country</th>\n",
       "      <th>InvoiceDate</th>\n",
       "    </tr>\n",
       "    <tr>\n",
       "      <th>InvoiceNo</th>\n",
       "      <th></th>\n",
       "      <th></th>\n",
       "      <th></th>\n",
       "      <th></th>\n",
       "      <th></th>\n",
       "    </tr>\n",
       "  </thead>\n",
       "  <tbody>\n",
       "    <tr>\n",
       "      <th>536370</th>\n",
       "      <td>20</td>\n",
       "      <td>855.86</td>\n",
       "      <td>12583.0</td>\n",
       "      <td>France</td>\n",
       "      <td>2010-12-01 08:45:00</td>\n",
       "    </tr>\n",
       "    <tr>\n",
       "      <th>536389</th>\n",
       "      <td>14</td>\n",
       "      <td>358.25</td>\n",
       "      <td>12431.0</td>\n",
       "      <td>Australia</td>\n",
       "      <td>2010-12-01 10:03:00</td>\n",
       "    </tr>\n",
       "    <tr>\n",
       "      <th>536403</th>\n",
       "      <td>2</td>\n",
       "      <td>192.60</td>\n",
       "      <td>12791.0</td>\n",
       "      <td>Netherlands</td>\n",
       "      <td>2010-12-01 11:27:00</td>\n",
       "    </tr>\n",
       "    <tr>\n",
       "      <th>536527</th>\n",
       "      <td>15</td>\n",
       "      <td>261.48</td>\n",
       "      <td>12662.0</td>\n",
       "      <td>Germany</td>\n",
       "      <td>2010-12-01 13:04:00</td>\n",
       "    </tr>\n",
       "    <tr>\n",
       "      <th>536532</th>\n",
       "      <td>73</td>\n",
       "      <td>1919.14</td>\n",
       "      <td>12433.0</td>\n",
       "      <td>Norway</td>\n",
       "      <td>2010-12-01 13:24:00</td>\n",
       "    </tr>\n",
       "    <tr>\n",
       "      <th>...</th>\n",
       "      <td>...</td>\n",
       "      <td>...</td>\n",
       "      <td>...</td>\n",
       "      <td>...</td>\n",
       "      <td>...</td>\n",
       "    </tr>\n",
       "    <tr>\n",
       "      <th>558045</th>\n",
       "      <td>31</td>\n",
       "      <td>634.74</td>\n",
       "      <td>12615.0</td>\n",
       "      <td>France</td>\n",
       "      <td>2011-06-24 13:35:00</td>\n",
       "    </tr>\n",
       "    <tr>\n",
       "      <th>558046</th>\n",
       "      <td>30</td>\n",
       "      <td>542.20</td>\n",
       "      <td>NaN</td>\n",
       "      <td>EIRE</td>\n",
       "      <td>2011-06-24 13:47:00</td>\n",
       "    </tr>\n",
       "    <tr>\n",
       "      <th>558047</th>\n",
       "      <td>1</td>\n",
       "      <td>542.20</td>\n",
       "      <td>NaN</td>\n",
       "      <td>EIRE</td>\n",
       "      <td>2011-06-24 13:51:00</td>\n",
       "    </tr>\n",
       "    <tr>\n",
       "      <th>558067</th>\n",
       "      <td>37</td>\n",
       "      <td>930.71</td>\n",
       "      <td>14156.0</td>\n",
       "      <td>EIRE</td>\n",
       "      <td>2011-06-24 15:51:00</td>\n",
       "    </tr>\n",
       "    <tr>\n",
       "      <th>558069</th>\n",
       "      <td>4</td>\n",
       "      <td>69.60</td>\n",
       "      <td>14156.0</td>\n",
       "      <td>EIRE</td>\n",
       "      <td>2011-06-24 15:51:00</td>\n",
       "    </tr>\n",
       "  </tbody>\n",
       "</table>\n",
       "<p>859 rows × 5 columns</p>\n",
       "</div>"
      ],
      "text/plain": [
       "           UniqueItem  TotalPrice  CustomerID      Country         InvoiceDate\n",
       "InvoiceNo                                                                     \n",
       "536370             20      855.86     12583.0       France 2010-12-01 08:45:00\n",
       "536389             14      358.25     12431.0    Australia 2010-12-01 10:03:00\n",
       "536403              2      192.60     12791.0  Netherlands 2010-12-01 11:27:00\n",
       "536527             15      261.48     12662.0      Germany 2010-12-01 13:04:00\n",
       "536532             73     1919.14     12433.0       Norway 2010-12-01 13:24:00\n",
       "...               ...         ...         ...          ...                 ...\n",
       "558045             31      634.74     12615.0       France 2011-06-24 13:35:00\n",
       "558046             30      542.20         NaN         EIRE 2011-06-24 13:47:00\n",
       "558047              1      542.20         NaN         EIRE 2011-06-24 13:51:00\n",
       "558067             37      930.71     14156.0         EIRE 2011-06-24 15:51:00\n",
       "558069              4       69.60     14156.0         EIRE 2011-06-24 15:51:00\n",
       "\n",
       "[859 rows x 5 columns]"
      ]
     },
     "execution_count": 26,
     "metadata": {},
     "output_type": "execute_result"
    }
   ],
   "source": [
    "## Your code here\n",
    "invoice_int=invoice[invoice[\"Country\"]!= \"United Kingdom\"]\n",
    "invoice_int"
   ]
  },
  {
   "cell_type": "markdown",
   "metadata": {},
   "source": [
    "## Data Wrangling & Visualization\n",
    "\n",
    "**Task 1**:  \n",
    "Using the `invoice_int` data, create a bar chart which shows the company **top 5** largest overseas market by **total** revenue (`TotalPrice`)!\n",
    "\n",
    "*Hint*:\n",
    "- Perform a group by aggregation to get the total (`sum`) revenue (`TotalPrice`) by each country and subset only top 5 countries with the highest value.\n",
    "- Pair the dataframe with `.plot()` to get the barchart."
   ]
  },
  {
   "cell_type": "code",
   "execution_count": 39,
   "metadata": {},
   "outputs": [
    {
     "data": {
      "text/plain": [
       "<AxesSubplot:xlabel='Country'>"
      ]
     },
     "execution_count": 39,
     "metadata": {},
     "output_type": "execute_result"
    },
    {
     "data": {
      "image/png": "[encoded data removed]",
      "text/plain": [
       "<Figure size 432x288 with 1 Axes>"
      ]
     },
     "metadata": {
      "needs_background": "light"
     },
     "output_type": "display_data"
    }
   ],
   "source": [
    "## Your code here\n",
    "top5=pd.crosstab(\n",
    "    index = invoice_int[\"Country\"],\n",
    "    columns = \"TotalPrice\",\n",
    "    aggfunc=(\"sum\"),\n",
    "    values=invoice_int[\"TotalPrice\"]\n",
    ").sort_values(\"TotalPrice\", ascending = False).head(5)\n",
    "\n",
    "top5.plot.bar()"
   ]
  },
  {
   "cell_type": "markdown",
   "metadata": {},
   "source": [
    "1. When creating a bar chart, we should also consider what order in which we will plot the bars. Sorting the bars by the right order reduce the burden on the reader to make the comparisons. What ordering do you think the bars within the *Task 1* barchart should be presented?\n",
    "    - [ ] by Country: `sort_values('Country', ascending = False).plot(kind='bar')`\n",
    "    - [ ] by Country: `sort_values('Country').plot(kind='barh')`\n",
    "    - [x] by Value: `sort_values('TotalPrice', ascending=False).plot(kind='bar')`\n",
    "    - [ ] by Value: `sort_values('TotalPrice').plot()`\n",
    "\n",
    "2. From the chart you just created, which of the following is **not** among the top 5 largest market outside the United Kingdom?\n",
    "    - [ ] Netherland\n",
    "    - [ ] EIRE\n",
    "    - [ ] Germany\n",
    "    - [x] Spain "
   ]
  },
  {
   "cell_type": "markdown",
   "metadata": {},
   "source": [
    "**Task 2**:  \n",
    "A common way to inspecting data statistically is by using boxplot, a handy visualization tools that provide five number summary for your data. \n",
    "\n",
    "The boxplot below compares the monthly summary of each overseas market total revenue;\n",
    "- Each data point represents the country total revenue (`TotalPrice`)\n",
    "- The x and y axis represents the monthly period and total monthly revenue respectively.\n",
    "\n",
    "![](assets/task2.png)\n",
    "\n",
    "3. From the boxplot above, which of the following statements is **TRUE**?\n",
    "    - [ ] The highest market revenue in January 2011 was around 18,000 USD\n",
    "    - [x] In 2011, the total monthly revenue in February was higher than March\n",
    "    - [ ] The median revenue appeared to be highest in May 2011.\n",
    "    - [ ] In 2011, there were more countries that happen to be outliers in April than June.\n",
    "    \n",
    "    \n",
    "4. Try to recreate the boxplot above by fill in the blank codes:\n",
    "\n",
    "```\n",
    "invoice_int['InvoiceMonth'] = invoice_int['InvoiceDate'].dt.to_period('M')\n",
    "\n",
    "invoice_monthly = invoice_int.\\\n",
    "groupby(_______).\\\n",
    "agg({'TotalPrice': 'sum'})\n",
    "\n",
    "invoice_monthly.\\\n",
    "boxplot(column = _______, by=_______)\n",
    "```\n",
    "   - [ ] `['Country']`, `'TotalPrice'`, `'Country'`\n",
    "   - [ ] `['InvoiceMonth']`, `'TotalPrice'`, `'InvoiceMonth'`\n",
    "   - [x] `['Country','InvoiceMonth']`, `'TotalPrice'`, `'InvoiceMonth'`\n",
    "   - [ ] `['InvoiceMonth','Country']`, `'InvoiceMonth'`, `'TotalPrice'`"
   ]
  },
  {
   "cell_type": "code",
   "execution_count": 48,
   "metadata": {},
   "outputs": [
    {
     "name": "stderr",
     "output_type": "stream",
     "text": [
      "<ipython-input-48-ba19d8d52d99>:2: SettingWithCopyWarning: \n",
      "A value is trying to be set on a copy of a slice from a DataFrame.\n",
      "Try using .loc[row_indexer,col_indexer] = value instead\n",
      "\n",
      "See the caveats in the documentation: https://pandas.pydata.org/pandas-docs/stable/user_guide/indexing.html#returning-a-view-versus-a-copy\n",
      "  invoice_int['InvoiceMonth'] = invoice_int['InvoiceDate'].dt.to_period('M')\n"
     ]
    },
    {
     "data": {
      "text/plain": [
       "<AxesSubplot:title={'center':'TotalPrice'}, xlabel='InvoiceMonth'>"
      ]
     },
     "execution_count": 48,
     "metadata": {},
     "output_type": "execute_result"
    },
    {
     "data": {
      "image/png": "[encoded data removed]",
      "text/plain": [
       "<Figure size 432x288 with 1 Axes>"
      ]
     },
     "metadata": {
      "needs_background": "light"
     },
     "output_type": "display_data"
    }
   ],
   "source": [
    "## Your code here\n",
    "invoice_int['InvoiceMonth'] = invoice_int['InvoiceDate'].dt.to_period('M')\n",
    "\n",
    "invoice_monthly = invoice_int.\\\n",
    "groupby(['Country','InvoiceMonth']).\\\n",
    "agg({'TotalPrice': 'sum'})\n",
    "\n",
    "\n",
    "invoice_monthly.\\\n",
    "boxplot(column = \"TotalPrice\", by=\"InvoiceMonth\")\n"
   ]
  },
  {
   "cell_type": "markdown",
   "metadata": {},
   "source": [
    "**Task 3**:\n",
    "\n",
    "Based on the previous boxplot, we found that in June 2011, there were 3 countries with unusually high `TotalPrice`. By fill in the blank codes below, you could identify those outliers by subsetting `invoice_monthly` with the maximum value/upper whisker of the boxplot:\n",
    "\n",
    "```\n",
    "june_invoice = invoice_monthly.xs(key = _______, level= _______)\n",
    "june_outliers = june_invoice[june_invoice['TotalPrice'] > 13000]\n",
    "\n",
    "june_outliers\n",
    "```\n",
    "\n",
    "5. Which countries are **NOT** included in `june_outliers` table/dataframe?\n",
    "   - [x] Germany\n",
    "   - [ ] France\n",
    "   - [ ] Australia\n",
    "   - [ ] EIRE"
   ]
  },
  {
   "cell_type": "code",
   "execution_count": 71,
   "metadata": {
    "scrolled": false
   },
   "outputs": [
    {
     "data": {
      "text/html": [
       "<div>\n",
       "<style scoped>\n",
       "    .dataframe tbody tr th:only-of-type {\n",
       "        vertical-align: middle;\n",
       "    }\n",
       "\n",
       "    .dataframe tbody tr th {\n",
       "        vertical-align: top;\n",
       "    }\n",
       "\n",
       "    .dataframe thead th {\n",
       "        text-align: right;\n",
       "    }\n",
       "</style>\n",
       "<table border=\"1\" class=\"dataframe\">\n",
       "  <thead>\n",
       "    <tr style=\"text-align: right;\">\n",
       "      <th></th>\n",
       "      <th>TotalPrice</th>\n",
       "    </tr>\n",
       "    <tr>\n",
       "      <th>Country</th>\n",
       "      <th></th>\n",
       "    </tr>\n",
       "  </thead>\n",
       "  <tbody>\n",
       "    <tr>\n",
       "      <th>Australia</th>\n",
       "      <td>23426.81</td>\n",
       "    </tr>\n",
       "    <tr>\n",
       "      <th>EIRE</th>\n",
       "      <td>19551.94</td>\n",
       "    </tr>\n",
       "    <tr>\n",
       "      <th>France</th>\n",
       "      <td>16012.89</td>\n",
       "    </tr>\n",
       "  </tbody>\n",
       "</table>\n",
       "</div>"
      ],
      "text/plain": [
       "           TotalPrice\n",
       "Country              \n",
       "Australia    23426.81\n",
       "EIRE         19551.94\n",
       "France       16012.89"
      ]
     },
     "execution_count": 71,
     "metadata": {},
     "output_type": "execute_result"
    }
   ],
   "source": [
    "## Your code here:\n",
    "\n",
    "june_invoice = invoice_monthly.xs(key =\"2011-06\", level= 1)\n",
    "june_outliers = june_invoice[june_invoice['TotalPrice'] > 13000]\n",
    "\n",
    "june_outliers\n"
   ]
  },
  {
   "cell_type": "markdown",
   "metadata": {},
   "source": [
    "6. Copy down the code below to create a dataframe of quarterly summary of total revenue from the countries in `june_outliers`: \n",
    "```\n",
    "invoice_int['Quarter'] = invoice_int['InvoiceDate'].dt.to_period('Q')\n",
    "invoice_topq = invoice_int.groupby(['Country','Quarter']).\\\n",
    "                 agg({'TotalPrice' : 'sum'}).\\\n",
    "                 loc[june_outliers.axes[0],]\n",
    "invoice_topq\n",
    "```\n",
    "Which of the following code shows the *most efficient* **grouped bar chart** to compare **quarterly revenue growth** in `invoice_topq`?    \n",
    "    - [ ] `invoice_topq.plot(kind='bar')`\n",
    "    - [ ] `invoice_topq.unstack().plot(kind = 'bar',stacked=True)`\n",
    "    - [x] `invoice_topq.unstack(level = 'Country').plot(kind='barh')`\n",
    "    - [ ] `invoice_topq.unstack(level = 'Country').plot(kind='bar')`"
   ]
  },
  {
   "cell_type": "code",
   "execution_count": 86,
   "metadata": {},
   "outputs": [
    {
     "name": "stderr",
     "output_type": "stream",
     "text": [
      "<ipython-input-86-6d14613de9c9>:3: SettingWithCopyWarning: \n",
      "A value is trying to be set on a copy of a slice from a DataFrame.\n",
      "Try using .loc[row_indexer,col_indexer] = value instead\n",
      "\n",
      "See the caveats in the documentation: https://pandas.pydata.org/pandas-docs/stable/user_guide/indexing.html#returning-a-view-versus-a-copy\n",
      "  invoice_int['Quarter'] = invoice_int['InvoiceDate'].dt.to_period('Q')\n"
     ]
    },
    {
     "data": {
      "text/plain": [
       "<AxesSubplot:ylabel='Quarter'>"
      ]
     },
     "execution_count": 86,
     "metadata": {},
     "output_type": "execute_result"
    },
    {
     "data": {
      "image/png": "[encoded data removed]",
      "text/plain": [
       "<Figure size 432x288 with 1 Axes>"
      ]
     },
     "metadata": {
      "needs_background": "light"
     },
     "output_type": "display_data"
    }
   ],
   "source": [
    "## Your code here:\n",
    "\n",
    "invoice_int['Quarter'] = invoice_int['InvoiceDate'].dt.to_period('Q')\n",
    "invoice_topq = invoice_int.groupby(['Country','Quarter']).\\\n",
    "              agg({'TotalPrice' : 'sum'}).\\\n",
    "              loc[june_outliers.axes[0],]\n",
    "invoice_topq\n",
    "\n",
    "a=invoice_topq.copy()\n",
    "a.unstack(level = 'Country').plot(kind='barh')\n"
   ]
  }
 ],
 "metadata": {
  "kernelspec": {
   "display_name": "Python 3",
   "language": "python",
   "name": "python3"
  },
  "language_info": {
   "codemirror_mode": {
    "name": "ipython",
    "version": 3
   },
   "file_extension": ".py",
   "mimetype": "text/x-python",
   "name": "python",
   "nbconvert_exporter": "python",
   "pygments_lexer": "ipython3",
   "version": "3.8.5"
  },
  "latex_envs": {
   "LaTeX_envs_menu_present": true,
   "autoclose": false,
   "autocomplete": true,
   "bibliofile": "biblio.bib",
   "cite_by": "apalike",
   "current_citInitial": 1,
   "eqLabelWithNumbers": true,
   "eqNumInitial": 1,
   "hotkeys": {
    "equation": "Ctrl-E",
    "itemize": "Ctrl-I"
   },
   "labels_anchors": false,
   "latex_user_defs": false,
   "report_style_numbering": false,
   "user_envs_cfg": false
  },
  "toc": {
   "base_numbering": 1,
   "nav_menu": {},
   "number_sections": true,
   "sideBar": true,
   "skip_h1_title": false,
   "title_cell": "Table of Contents",
   "title_sidebar": "Contents",
   "toc_cell": false,
   "toc_position": {},
   "toc_section_display": true,
   "toc_window_display": false
  }
 },
 "nbformat": 4,
 "nbformat_minor": 2
}
